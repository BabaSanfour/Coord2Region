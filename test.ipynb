{
 "cells": [
  {
   "cell_type": "code",
   "execution_count": 1,
   "metadata": {},
   "outputs": [],
   "source": [
    "from coord2region import fetching"
   ]
  },
  {
   "cell_type": "code",
   "execution_count": 2,
   "metadata": {},
   "outputs": [
    {
     "name": "stdout",
     "output_type": "stream",
     "text": [
      "[get_dataset_dir] Dataset found in /Users/hamzaabdelhedi/coord2region_data/fsl\n"
     ]
    }
   ],
   "source": [
    "af = fetching.AtlasFetcher()\n",
    "harvard = af.fetch_atlas(\"harvard-oxford\")\n"
   ]
  },
  {
   "cell_type": "code",
   "execution_count": 3,
   "metadata": {},
   "outputs": [
    {
     "data": {
      "text/plain": [
       "dict_keys(['vol', 'hdr', 'labels', 'description', 'file'])"
      ]
     },
     "execution_count": 3,
     "metadata": {},
     "output_type": "execute_result"
    }
   ],
   "source": [
    "harvard.keys()"
   ]
  },
  {
   "cell_type": "code",
   "execution_count": 4,
   "metadata": {},
   "outputs": [],
   "source": [
    "from coord2region import coord2region"
   ]
  },
  {
   "cell_type": "code",
   "execution_count": 5,
   "metadata": {},
   "outputs": [],
   "source": [
    "harvard_mapper = coord2region.AtlasRegionMapper(\"harvard-oxford\", harvard[\"vol\"], harvard[\"hdr\"], harvard[\"labels\"])"
   ]
  },
  {
   "cell_type": "code",
   "execution_count": 6,
   "metadata": {},
   "outputs": [],
   "source": [
    "harvard_mapper.get_hemisphere(\"Frontal Pole\")"
   ]
  },
  {
   "cell_type": "code",
   "execution_count": 7,
   "metadata": {},
   "outputs": [
    {
     "data": {
      "text/plain": [
       "'Precentral Gyrus'"
      ]
     },
     "execution_count": 7,
     "metadata": {},
     "output_type": "execute_result"
    }
   ],
   "source": [
    "region_name = harvard_mapper.get_region_name(7) # Does not work we dont have inde\n",
    "region_name"
   ]
  },
  {
   "cell_type": "code",
   "execution_count": 8,
   "metadata": {},
   "outputs": [
    {
     "data": {
      "text/plain": [
       "7"
      ]
     },
     "execution_count": 8,
     "metadata": {},
     "output_type": "execute_result"
    }
   ],
   "source": [
    "region_index = harvard_mapper.get_region_index(\"Precentral Gyrus\")\n",
    "region_index"
   ]
  },
  {
   "cell_type": "code",
   "execution_count": 9,
   "metadata": {},
   "outputs": [
    {
     "data": {
      "text/plain": [
       "['Background',\n",
       " 'Frontal Pole',\n",
       " 'Insular Cortex',\n",
       " 'Superior Frontal Gyrus',\n",
       " 'Middle Frontal Gyrus',\n",
       " 'Inferior Frontal Gyrus, pars triangularis',\n",
       " 'Inferior Frontal Gyrus, pars opercularis',\n",
       " 'Precentral Gyrus',\n",
       " 'Temporal Pole',\n",
       " 'Superior Temporal Gyrus, anterior division',\n",
       " 'Superior Temporal Gyrus, posterior division',\n",
       " 'Middle Temporal Gyrus, anterior division',\n",
       " 'Middle Temporal Gyrus, posterior division',\n",
       " 'Middle Temporal Gyrus, temporooccipital part',\n",
       " 'Inferior Temporal Gyrus, anterior division',\n",
       " 'Inferior Temporal Gyrus, posterior division',\n",
       " 'Inferior Temporal Gyrus, temporooccipital part',\n",
       " 'Postcentral Gyrus',\n",
       " 'Superior Parietal Lobule',\n",
       " 'Supramarginal Gyrus, anterior division',\n",
       " 'Supramarginal Gyrus, posterior division',\n",
       " 'Angular Gyrus',\n",
       " 'Lateral Occipital Cortex, superior division',\n",
       " 'Lateral Occipital Cortex, inferior division',\n",
       " 'Intracalcarine Cortex',\n",
       " 'Frontal Medial Cortex',\n",
       " 'Juxtapositional Lobule Cortex (formerly Supplementary Motor Cortex)',\n",
       " 'Subcallosal Cortex',\n",
       " 'Paracingulate Gyrus',\n",
       " 'Cingulate Gyrus, anterior division',\n",
       " 'Cingulate Gyrus, posterior division',\n",
       " 'Precuneous Cortex',\n",
       " 'Cuneal Cortex',\n",
       " 'Frontal Orbital Cortex',\n",
       " 'Parahippocampal Gyrus, anterior division',\n",
       " 'Parahippocampal Gyrus, posterior division',\n",
       " 'Lingual Gyrus',\n",
       " 'Temporal Fusiform Cortex, anterior division',\n",
       " 'Temporal Fusiform Cortex, posterior division',\n",
       " 'Temporal Occipital Fusiform Cortex',\n",
       " 'Occipital Fusiform Gyrus',\n",
       " 'Frontal Opercular Cortex',\n",
       " 'Central Opercular Cortex',\n",
       " 'Parietal Opercular Cortex',\n",
       " 'Planum Polare',\n",
       " \"Heschl's Gyrus (includes H1 and H2)\",\n",
       " 'Planum Temporale',\n",
       " 'Supracalcarine Cortex',\n",
       " 'Occipital Pole']"
      ]
     },
     "execution_count": 9,
     "metadata": {},
     "output_type": "execute_result"
    }
   ],
   "source": [
    "harvard_mapper.get_list_of_regions()"
   ]
  },
  {
   "cell_type": "code",
   "execution_count": 10,
   "metadata": {},
   "outputs": [],
   "source": [
    "harvard_mapper.get_hemisphere(\"Precentral Gyrus\")"
   ]
  },
  {
   "cell_type": "code",
   "execution_count": 11,
   "metadata": {},
   "outputs": [
    {
     "data": {
      "text/plain": [
       "(18, 81, 34)"
      ]
     },
     "execution_count": 11,
     "metadata": {},
     "output_type": "execute_result"
    }
   ],
   "source": [
    "harvard_mapper.pos_to_source([-54.,  36.,  -4.]) # MNI position to vol source"
   ]
  },
  {
   "cell_type": "code",
   "execution_count": 12,
   "metadata": {},
   "outputs": [
    {
     "data": {
      "text/plain": [
       "1"
      ]
     },
     "execution_count": 12,
     "metadata": {},
     "output_type": "execute_result"
    }
   ],
   "source": [
    "harvard_mapper.pos_to_index([-54.,  36.,  -4.]) "
   ]
  },
  {
   "cell_type": "code",
   "execution_count": 13,
   "metadata": {},
   "outputs": [
    {
     "data": {
      "text/plain": [
       "'Frontal Pole'"
      ]
     },
     "execution_count": 13,
     "metadata": {},
     "output_type": "execute_result"
    }
   ],
   "source": [
    "harvard_mapper.pos_to_region([-54.,  36.,  -4.]) "
   ]
  },
  {
   "cell_type": "code",
   "execution_count": 14,
   "metadata": {},
   "outputs": [
    {
     "data": {
      "text/plain": [
       "array([-198.,  -54.,  -80.])"
      ]
     },
     "execution_count": 14,
     "metadata": {},
     "output_type": "execute_result"
    }
   ],
   "source": [
    "harvard_mapper.source_to_pos([-54.,  36.,  -4.]) "
   ]
  },
  {
   "cell_type": "code",
   "execution_count": 15,
   "metadata": {},
   "outputs": [
    {
     "data": {
      "text/plain": [
       "array([[-54.,  36.,  -4.],\n",
       "       [-54.,  36.,  -2.],\n",
       "       [-54.,  36.,   0.],\n",
       "       ...,\n",
       "       [ 56.,  38.,  12.],\n",
       "       [ 56.,  40.,   6.],\n",
       "       [ 56.,  40.,   8.]])"
      ]
     },
     "execution_count": 15,
     "metadata": {},
     "output_type": "execute_result"
    }
   ],
   "source": [
    "harvard_mapper.index_to_pos(1) "
   ]
  },
  {
   "cell_type": "code",
   "execution_count": 16,
   "metadata": {},
   "outputs": [
    {
     "data": {
      "text/plain": [
       "array([[-54.,  36.,  -4.],\n",
       "       [-54.,  36.,  -2.],\n",
       "       [-54.,  36.,   0.],\n",
       "       ...,\n",
       "       [ 56.,  38.,  12.],\n",
       "       [ 56.,  40.,   6.],\n",
       "       [ 56.,  40.,   8.]])"
      ]
     },
     "execution_count": 16,
     "metadata": {},
     "output_type": "execute_result"
    }
   ],
   "source": [
    "harvard_mapper.region_to_pos(\"Frontal Pole\") "
   ]
  },
  {
   "cell_type": "code",
   "execution_count": 17,
   "metadata": {},
   "outputs": [],
   "source": [
    "vectorized = coord2region.VectorizedAtlasRegionMapper(harvard_mapper)"
   ]
  },
  {
   "cell_type": "code",
   "execution_count": 18,
   "metadata": {},
   "outputs": [],
   "source": [
    "# create a list of MNI coordinates! \n",
    "list_coordinates = []\n",
    "for i in harvard[\"labels\"]:\n",
    "    if i == \"Background\":\n",
    "        continue\n",
    "    list_coordinates.append(harvard_mapper.region_to_pos(i)[3,:])"
   ]
  },
  {
   "cell_type": "code",
   "execution_count": 19,
   "metadata": {},
   "outputs": [
    {
     "data": {
      "text/plain": [
       "['Frontal Pole',\n",
       " 'Insular Cortex',\n",
       " 'Superior Frontal Gyrus',\n",
       " 'Middle Frontal Gyrus',\n",
       " 'Inferior Frontal Gyrus, pars triangularis',\n",
       " 'Inferior Frontal Gyrus, pars opercularis',\n",
       " 'Precentral Gyrus',\n",
       " 'Temporal Pole',\n",
       " 'Superior Temporal Gyrus, anterior division',\n",
       " 'Superior Temporal Gyrus, posterior division',\n",
       " 'Middle Temporal Gyrus, anterior division',\n",
       " 'Middle Temporal Gyrus, posterior division',\n",
       " 'Middle Temporal Gyrus, temporooccipital part',\n",
       " 'Inferior Temporal Gyrus, anterior division',\n",
       " 'Inferior Temporal Gyrus, posterior division',\n",
       " 'Inferior Temporal Gyrus, temporooccipital part',\n",
       " 'Postcentral Gyrus',\n",
       " 'Superior Parietal Lobule',\n",
       " 'Supramarginal Gyrus, anterior division',\n",
       " 'Supramarginal Gyrus, posterior division',\n",
       " 'Angular Gyrus',\n",
       " 'Lateral Occipital Cortex, superior division',\n",
       " 'Lateral Occipital Cortex, inferior division',\n",
       " 'Intracalcarine Cortex',\n",
       " 'Frontal Medial Cortex',\n",
       " 'Juxtapositional Lobule Cortex (formerly Supplementary Motor Cortex)',\n",
       " 'Subcallosal Cortex',\n",
       " 'Paracingulate Gyrus',\n",
       " 'Cingulate Gyrus, anterior division',\n",
       " 'Cingulate Gyrus, posterior division',\n",
       " 'Precuneous Cortex',\n",
       " 'Cuneal Cortex',\n",
       " 'Frontal Orbital Cortex',\n",
       " 'Parahippocampal Gyrus, anterior division',\n",
       " 'Parahippocampal Gyrus, posterior division',\n",
       " 'Lingual Gyrus',\n",
       " 'Temporal Fusiform Cortex, anterior division',\n",
       " 'Temporal Fusiform Cortex, posterior division',\n",
       " 'Temporal Occipital Fusiform Cortex',\n",
       " 'Occipital Fusiform Gyrus',\n",
       " 'Frontal Opercular Cortex',\n",
       " 'Central Opercular Cortex',\n",
       " 'Parietal Opercular Cortex',\n",
       " 'Planum Polare',\n",
       " \"Heschl's Gyrus (includes H1 and H2)\",\n",
       " 'Planum Temporale',\n",
       " 'Supracalcarine Cortex',\n",
       " 'Occipital Pole']"
      ]
     },
     "execution_count": 19,
     "metadata": {},
     "output_type": "execute_result"
    }
   ],
   "source": [
    "list_reg = vectorized.batch_pos_to_region(list_coordinates)\n",
    "list_reg"
   ]
  },
  {
   "cell_type": "code",
   "execution_count": 20,
   "metadata": {},
   "outputs": [
    {
     "data": {
      "text/plain": [
       "['Insular Cortex', 'Superior Frontal Gyrus', 'Middle Frontal Gyrus']"
      ]
     },
     "execution_count": 20,
     "metadata": {},
     "output_type": "execute_result"
    }
   ],
   "source": [
    "names = vectorized.batch_get_region_names([2, 3, 4])\n",
    "names"
   ]
  },
  {
   "cell_type": "code",
   "execution_count": 21,
   "metadata": {},
   "outputs": [
    {
     "data": {
      "text/plain": [
       "[2, 3, 4]"
      ]
     },
     "execution_count": 21,
     "metadata": {},
     "output_type": "execute_result"
    }
   ],
   "source": [
    "ind = vectorized.batch_get_region_indices(names)\n",
    "ind"
   ]
  },
  {
   "cell_type": "code",
   "execution_count": 22,
   "metadata": {},
   "outputs": [
    {
     "data": {
      "text/plain": [
       "[(18, 82, 32),\n",
       " (23, 59, 35),\n",
       " (31, 63, 68),\n",
       " (18, 70, 54),\n",
       " (16, 75, 41),\n",
       " (15, 69, 42),\n",
       " (13, 61, 44),\n",
       " (15, 65, 26),\n",
       " (13, 60, 35),\n",
       " (10, 46, 38),\n",
       " (12, 59, 27),\n",
       " (10, 43, 35),\n",
       " (11, 38, 37),\n",
       " (16, 58, 18),\n",
       " (12, 43, 27),\n",
       " (13, 36, 29),\n",
       " (12, 52, 46),\n",
       " (22, 43, 64),\n",
       " (11, 47, 51),\n",
       " (12, 38, 45),\n",
       " (13, 35, 45),\n",
       " (15, 30, 47),\n",
       " (14, 31, 38),\n",
       " (33, 31, 39),\n",
       " (39, 87, 32),\n",
       " (39, 63, 58),\n",
       " (39, 70, 27),\n",
       " (38, 85, 43),\n",
       " (40, 57, 56),\n",
       " (37, 38, 38),\n",
       " (34, 33, 40),\n",
       " (35, 25, 50),\n",
       " (19, 79, 30),\n",
       " (29, 52, 22),\n",
       " (28, 48, 28),\n",
       " (30, 36, 34),\n",
       " (25, 60, 16),\n",
       " (22, 43, 23),\n",
       " (22, 33, 27),\n",
       " (23, 29, 27),\n",
       " (21, 69, 35),\n",
       " (13, 58, 41),\n",
       " (13, 45, 47),\n",
       " (16, 61, 37),\n",
       " (17, 56, 39),\n",
       " (13, 47, 45),\n",
       " (35, 30, 44),\n",
       " (25, 17, 35)]"
      ]
     },
     "execution_count": 22,
     "metadata": {},
     "output_type": "execute_result"
    }
   ],
   "source": [
    "vectorized.batch_pos_to_source(list_coordinates)"
   ]
  },
  {
   "cell_type": "code",
   "execution_count": 23,
   "metadata": {},
   "outputs": [
    {
     "data": {
      "text/plain": [
       "[1,\n",
       " 2,\n",
       " 3,\n",
       " 4,\n",
       " 5,\n",
       " 6,\n",
       " 7,\n",
       " 8,\n",
       " 9,\n",
       " 10,\n",
       " 11,\n",
       " 12,\n",
       " 13,\n",
       " 14,\n",
       " 15,\n",
       " 16,\n",
       " 17,\n",
       " 18,\n",
       " 19,\n",
       " 20,\n",
       " 21,\n",
       " 22,\n",
       " 23,\n",
       " 24,\n",
       " 25,\n",
       " 26,\n",
       " 27,\n",
       " 28,\n",
       " 29,\n",
       " 30,\n",
       " 31,\n",
       " 32,\n",
       " 33,\n",
       " 34,\n",
       " 35,\n",
       " 36,\n",
       " 37,\n",
       " 38,\n",
       " 39,\n",
       " 40,\n",
       " 41,\n",
       " 42,\n",
       " 43,\n",
       " 44,\n",
       " 45,\n",
       " 46,\n",
       " 47,\n",
       " 48]"
      ]
     },
     "execution_count": 23,
     "metadata": {},
     "output_type": "execute_result"
    }
   ],
   "source": [
    "vectorized.batch_pos_to_index(list_coordinates)"
   ]
  },
  {
   "cell_type": "code",
   "execution_count": 24,
   "metadata": {},
   "outputs": [
    {
     "data": {
      "text/plain": [
       "['Frontal Pole',\n",
       " 'Insular Cortex',\n",
       " 'Superior Frontal Gyrus',\n",
       " 'Middle Frontal Gyrus',\n",
       " 'Inferior Frontal Gyrus, pars triangularis',\n",
       " 'Inferior Frontal Gyrus, pars opercularis',\n",
       " 'Precentral Gyrus',\n",
       " 'Temporal Pole',\n",
       " 'Superior Temporal Gyrus, anterior division',\n",
       " 'Superior Temporal Gyrus, posterior division',\n",
       " 'Middle Temporal Gyrus, anterior division',\n",
       " 'Middle Temporal Gyrus, posterior division',\n",
       " 'Middle Temporal Gyrus, temporooccipital part',\n",
       " 'Inferior Temporal Gyrus, anterior division',\n",
       " 'Inferior Temporal Gyrus, posterior division',\n",
       " 'Inferior Temporal Gyrus, temporooccipital part',\n",
       " 'Postcentral Gyrus',\n",
       " 'Superior Parietal Lobule',\n",
       " 'Supramarginal Gyrus, anterior division',\n",
       " 'Supramarginal Gyrus, posterior division',\n",
       " 'Angular Gyrus',\n",
       " 'Lateral Occipital Cortex, superior division',\n",
       " 'Lateral Occipital Cortex, inferior division',\n",
       " 'Intracalcarine Cortex',\n",
       " 'Frontal Medial Cortex',\n",
       " 'Juxtapositional Lobule Cortex (formerly Supplementary Motor Cortex)',\n",
       " 'Subcallosal Cortex',\n",
       " 'Paracingulate Gyrus',\n",
       " 'Cingulate Gyrus, anterior division',\n",
       " 'Cingulate Gyrus, posterior division',\n",
       " 'Precuneous Cortex',\n",
       " 'Cuneal Cortex',\n",
       " 'Frontal Orbital Cortex',\n",
       " 'Parahippocampal Gyrus, anterior division',\n",
       " 'Parahippocampal Gyrus, posterior division',\n",
       " 'Lingual Gyrus',\n",
       " 'Temporal Fusiform Cortex, anterior division',\n",
       " 'Temporal Fusiform Cortex, posterior division',\n",
       " 'Temporal Occipital Fusiform Cortex',\n",
       " 'Occipital Fusiform Gyrus',\n",
       " 'Frontal Opercular Cortex',\n",
       " 'Central Opercular Cortex',\n",
       " 'Parietal Opercular Cortex',\n",
       " 'Planum Polare',\n",
       " \"Heschl's Gyrus (includes H1 and H2)\",\n",
       " 'Planum Temporale',\n",
       " 'Supracalcarine Cortex',\n",
       " 'Occipital Pole']"
      ]
     },
     "execution_count": 24,
     "metadata": {},
     "output_type": "execute_result"
    }
   ],
   "source": [
    "vectorized.batch_pos_to_region(list_coordinates)"
   ]
  },
  {
   "cell_type": "code",
   "execution_count": 25,
   "metadata": {},
   "outputs": [
    {
     "data": {
      "text/plain": [
       "array([[-16., -50.,   4.],\n",
       "       [-22., -60.,   8.],\n",
       "       [-20., -76.,  28.],\n",
       "       [-52.,  32., -12.],\n",
       "       [-32., -22., -28.]])"
      ]
     },
     "execution_count": 25,
     "metadata": {},
     "output_type": "execute_result"
    }
   ],
   "source": [
    "vectorized.batch_source_to_pos([ (37, 38, 38),\n",
    " (34, 33, 40),\n",
    " (35, 25, 50),\n",
    " (19, 79, 30),\n",
    " (29, 52, 22), ])"
   ]
  },
  {
   "cell_type": "code",
   "execution_count": 26,
   "metadata": {},
   "outputs": [
    {
     "data": {
      "text/plain": [
       "[array([[-58.,  22.,  10.],\n",
       "        [-58.,  22.,  12.],\n",
       "        [-58.,  24.,   8.],\n",
       "        ...,\n",
       "        [ 58.,  32.,   6.],\n",
       "        [ 58.,  32.,   8.],\n",
       "        [ 58.,  32.,  10.]]),\n",
       " array([[-60.,  10.,   8.],\n",
       "        [-60.,  10.,  12.],\n",
       "        [-60.,  12.,  10.],\n",
       "        ...,\n",
       "        [ 60.,  22.,  16.],\n",
       "        [ 60.,  22.,  18.],\n",
       "        [ 62.,  16.,  14.]]),\n",
       " array([[-64.,  -4.,  10.],\n",
       "        [-64.,  -4.,  12.],\n",
       "        [-64.,  -4.,  14.],\n",
       "        ...,\n",
       "        [ 66.,   4.,  12.],\n",
       "        [ 66.,   4.,  14.],\n",
       "        [ 66.,   4.,  16.]]),\n",
       " array([[-60.,   4., -26.],\n",
       "        [-60.,   4., -24.],\n",
       "        [-60.,   4., -22.],\n",
       "        ...,\n",
       "        [ 62.,   8.,  -8.],\n",
       "        [ 62.,   8.,  -6.],\n",
       "        [ 62.,   8.,  -4.]]),\n",
       " array([[-64.,  -8.,  -4.],\n",
       "        [-64.,  -8.,  -2.],\n",
       "        [-64.,  -8.,   0.],\n",
       "        ...,\n",
       "        [ 66.,  -4.,   0.],\n",
       "        [ 66.,  -2.,  -2.],\n",
       "        [ 66.,  -2.,   0.]])]"
      ]
     },
     "execution_count": 26,
     "metadata": {},
     "output_type": "execute_result"
    }
   ],
   "source": [
    "vectorized.batch_index_to_pos([ 5, 6, 7, 8, 9])"
   ]
  },
  {
   "cell_type": "code",
   "execution_count": 27,
   "metadata": {},
   "outputs": [
    {
     "data": {
      "text/plain": [
       "[array([[-54.,  36.,  -4.],\n",
       "        [-54.,  36.,  -2.],\n",
       "        [-54.,  36.,   0.],\n",
       "        ...,\n",
       "        [ 56.,  38.,  12.],\n",
       "        [ 56.,  40.,   6.],\n",
       "        [ 56.,  40.,   8.]]),\n",
       " array([[-28.,  -2.,  64.],\n",
       "        [-28.,  -2.,  66.],\n",
       "        [-28.,   0.,  62.],\n",
       "        ...,\n",
       "        [ 30.,   4.,  62.],\n",
       "        [ 30.,   4.,  64.],\n",
       "        [ 30.,   6.,  64.]]),\n",
       " array([[-54.,  10.,  40.],\n",
       "        [-54.,  12.,  38.],\n",
       "        [-54.,  12.,  40.],\n",
       "        ...,\n",
       "        [ 56.,  22.,  34.],\n",
       "        [ 56.,  24.,  30.],\n",
       "        [ 56.,  24.,  32.]]),\n",
       " array([], shape=(0, 3), dtype=float64),\n",
       " array([[-64.,  -4.,  10.],\n",
       "        [-64.,  -4.,  12.],\n",
       "        [-64.,  -4.,  14.],\n",
       "        ...,\n",
       "        [ 66.,   4.,  12.],\n",
       "        [ 66.,   4.,  14.],\n",
       "        [ 66.,   4.,  16.]])]"
      ]
     },
     "execution_count": 27,
     "metadata": {},
     "output_type": "execute_result"
    }
   ],
   "source": [
    "vectorized.batch_region_to_pos([\"Frontal Pole\", \"Superior Frontal Gyrus\", \"Middle Frontal Gyrus\", \"Inferior Frontal Gyrus\", \"Precentral Gyrus\"])"
   ]
  },
  {
   "cell_type": "code",
   "execution_count": 28,
   "metadata": {},
   "outputs": [
    {
     "name": "stdout",
     "output_type": "stream",
     "text": [
      "{'harvard-oxford': {}}\n",
      "[get_dataset_dir] Dataset found in /Users/hamzaabdelhedi/coord2region_data/fsl\n"
     ]
    }
   ],
   "source": [
    "c2r = coord2region.coord2region(\"coord2region_data\", {\"harvard-oxford\": {}})"
   ]
  },
  {
   "cell_type": "code",
   "execution_count": 29,
   "metadata": {},
   "outputs": [
    {
     "data": {
      "text/plain": [
       "{'harvard-oxford': ['Frontal Pole',\n",
       "  'Insular Cortex',\n",
       "  'Superior Frontal Gyrus',\n",
       "  'Middle Frontal Gyrus',\n",
       "  'Inferior Frontal Gyrus, pars triangularis',\n",
       "  'Inferior Frontal Gyrus, pars opercularis',\n",
       "  'Precentral Gyrus',\n",
       "  'Temporal Pole',\n",
       "  'Superior Temporal Gyrus, anterior division',\n",
       "  'Superior Temporal Gyrus, posterior division',\n",
       "  'Middle Temporal Gyrus, anterior division',\n",
       "  'Middle Temporal Gyrus, posterior division',\n",
       "  'Middle Temporal Gyrus, temporooccipital part',\n",
       "  'Inferior Temporal Gyrus, anterior division',\n",
       "  'Inferior Temporal Gyrus, posterior division',\n",
       "  'Inferior Temporal Gyrus, temporooccipital part',\n",
       "  'Postcentral Gyrus',\n",
       "  'Superior Parietal Lobule',\n",
       "  'Supramarginal Gyrus, anterior division',\n",
       "  'Supramarginal Gyrus, posterior division',\n",
       "  'Angular Gyrus',\n",
       "  'Lateral Occipital Cortex, superior division',\n",
       "  'Lateral Occipital Cortex, inferior division',\n",
       "  'Intracalcarine Cortex',\n",
       "  'Frontal Medial Cortex',\n",
       "  'Juxtapositional Lobule Cortex (formerly Supplementary Motor Cortex)',\n",
       "  'Subcallosal Cortex',\n",
       "  'Paracingulate Gyrus',\n",
       "  'Cingulate Gyrus, anterior division',\n",
       "  'Cingulate Gyrus, posterior division',\n",
       "  'Precuneous Cortex',\n",
       "  'Cuneal Cortex',\n",
       "  'Frontal Orbital Cortex',\n",
       "  'Parahippocampal Gyrus, anterior division',\n",
       "  'Parahippocampal Gyrus, posterior division',\n",
       "  'Lingual Gyrus',\n",
       "  'Temporal Fusiform Cortex, anterior division',\n",
       "  'Temporal Fusiform Cortex, posterior division',\n",
       "  'Temporal Occipital Fusiform Cortex',\n",
       "  'Occipital Fusiform Gyrus',\n",
       "  'Frontal Opercular Cortex',\n",
       "  'Central Opercular Cortex',\n",
       "  'Parietal Opercular Cortex',\n",
       "  'Planum Polare',\n",
       "  \"Heschl's Gyrus (includes H1 and H2)\",\n",
       "  'Planum Temporale',\n",
       "  'Supracalcarine Cortex',\n",
       "  'Occipital Pole']}"
      ]
     },
     "execution_count": 29,
     "metadata": {},
     "output_type": "execute_result"
    }
   ],
   "source": [
    "c2r.batch_pos_to_region(list_coordinates)"
   ]
  },
  {
   "cell_type": "code",
   "execution_count": 30,
   "metadata": {},
   "outputs": [
    {
     "data": {
      "text/plain": [
       "{'harvard-oxford': [array([[-46., -66., -20.],\n",
       "         [-44., -70., -20.],\n",
       "         [-44., -68., -20.],\n",
       "         ...,\n",
       "         [ 44., -64., -16.],\n",
       "         [ 44., -62., -18.],\n",
       "         [ 44., -62., -16.]]),\n",
       "  array([[-48.,  10.,  -2.],\n",
       "         [-48.,  10.,   0.],\n",
       "         [-48.,  10.,   2.],\n",
       "         ...,\n",
       "         [ 50.,  12.,   2.],\n",
       "         [ 50.,  14.,  -2.],\n",
       "         [ 50.,  14.,   0.]]),\n",
       "  array([[-64., -20.,  14.],\n",
       "         [-64., -18.,  14.],\n",
       "         [-64., -12.,  10.],\n",
       "         ...,\n",
       "         [ 66., -12.,  12.],\n",
       "         [ 66., -10.,  10.],\n",
       "         [ 66.,  -8.,   8.]]),\n",
       "  array([[-64., -38.,  20.],\n",
       "         [-64., -38.,  22.],\n",
       "         [-64., -36.,  20.],\n",
       "         ...,\n",
       "         [ 64., -24.,  18.],\n",
       "         [ 64., -24.,  20.],\n",
       "         [ 64., -22.,  18.]]),\n",
       "  array([[-58.,  -8.,   4.],\n",
       "         [-58.,  -6.,   2.],\n",
       "         [-58.,  -4.,   0.],\n",
       "         ...,\n",
       "         [ 62.,   0.,   2.],\n",
       "         [ 62.,   0.,   4.],\n",
       "         [ 62.,   2.,   2.]])]}"
      ]
     },
     "execution_count": 30,
     "metadata": {},
     "output_type": "execute_result"
    }
   ],
   "source": [
    "c2r.batch_region_to_pos(['Occipital Fusiform Gyrus',\n",
    "  'Frontal Opercular Cortex',\n",
    "  'Central Opercular Cortex',\n",
    "  'Parietal Opercular Cortex',\n",
    "  'Planum Polare',])"
   ]
  },
  {
   "cell_type": "code",
   "execution_count": null,
   "metadata": {},
   "outputs": [],
   "source": []
  },
  {
   "cell_type": "code",
   "execution_count": null,
   "metadata": {},
   "outputs": [],
   "source": []
  },
  {
   "cell_type": "code",
   "execution_count": null,
   "metadata": {},
   "outputs": [],
   "source": []
  },
  {
   "cell_type": "code",
   "execution_count": null,
   "metadata": {},
   "outputs": [],
   "source": []
  }
 ],
 "metadata": {
  "kernelspec": {
   "display_name": "Python 3",
   "language": "python",
   "name": "python3"
  },
  "language_info": {
   "codemirror_mode": {
    "name": "ipython",
    "version": 3
   },
   "file_extension": ".py",
   "mimetype": "text/x-python",
   "name": "python",
   "nbconvert_exporter": "python",
   "pygments_lexer": "ipython3",
   "version": "3.11.11"
  }
 },
 "nbformat": 4,
 "nbformat_minor": 2
}

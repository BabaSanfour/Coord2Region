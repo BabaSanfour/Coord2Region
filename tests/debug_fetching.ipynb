{
 "cells": [
  {
   "cell_type": "code",
   "execution_count": 1,
   "metadata": {},
   "outputs": [],
   "source": [
    "from coord2region.fetching import AtlasFileHandler, AtlasFetcher\n"
   ]
  },
  {
   "cell_type": "code",
   "execution_count": 7,
   "metadata": {},
   "outputs": [
    {
     "name": "stdout",
     "output_type": "stream",
     "text": [
      "Error encountered: No such file or no access: '/path/to/some_atlas.nii.gz'\n"
     ]
    }
   ],
   "source": [
    "data_dir = \"/some/writeable/directory\"\n",
    "handler = AtlasFileHandler()\n",
    "\n",
    "test_file = \"/path/to/some_atlas.nii.gz\"  \n",
    "labels = [\"Region1\", \"Region2\"]  \n",
    "\n",
    "try:\n",
    "    atlas_dict = handler.fetch_from_local(test_file, labels)\n",
    "    print(\"Atlas dictionary keys:\", atlas_dict.keys())\n",
    "    print(\"Volume shape:\", atlas_dict[\"vol\"].shape)\n",
    "    print(\"Labels:\", atlas_dict[\"labels\"])\n",
    "except Exception as e:\n",
    "    print(\"Error encountered:\", e)"
   ]
  },
  {
   "cell_type": "code",
   "execution_count": 3,
   "metadata": {},
   "outputs": [
    {
     "name": "stdout",
     "output_type": "stream",
     "text": [
      "Error fetching harvard-oxford: isinstance expected 2 arguments, got 3\n"
     ]
    }
   ],
   "source": [
    "\n",
    "\n",
    "from coord2region.fetching import AtlasFetcher\n",
    "\n",
    "fetcher = AtlasFetcher()  \n",
    "\n",
    "try:\n",
    "    atlas_data = fetcher.fetch_atlas(\"harvard_oxford\")\n",
    "except Exception as e:\n",
    "    print(\"Error fetching harvard-oxford:\", e)\n",
    "else:\n",
    "    # 4) Print out some details\n",
    "    print(\"Atlas data keys:\", atlas_data.keys())\n",
    "    if \"vol\" in atlas_data:\n",
    "        print(\"Volume shape:\", atlas_data[\"vol\"].shape)\n",
    "    if \"hdr\" in atlas_data:\n",
    "        print(\"Affine shape:\", atlas_data[\"hdr\"].shape)\n",
    "    if \"labels\" in atlas_data and atlas_data[\"labels\"]:\n",
    "        print(\"Number of labels:\", len(atlas_data[\"labels\"]))\n",
    "        print(\"Example labels:\", atlas_data[\"labels\"][:5])  # Show the first 5\n"
   ]
  }
 ],
 "metadata": {
  "kernelspec": {
   "display_name": "coord2region",
   "language": "python",
   "name": "python3"
  },
  "language_info": {
   "codemirror_mode": {
    "name": "ipython",
    "version": 3
   },
   "file_extension": ".py",
   "mimetype": "text/x-python",
   "name": "python",
   "nbconvert_exporter": "python",
   "pygments_lexer": "ipython3",
   "version": "3.12.9"
  }
 },
 "nbformat": 4,
 "nbformat_minor": 2
}
